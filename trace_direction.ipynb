{
  "nbformat": 4,
  "nbformat_minor": 0,
  "metadata": {
    "colab": {
      "name": "20143038_hw1.ipynb",
      "provenance": [],
      "collapsed_sections": [],
      "include_colab_link": true
    },
    "kernelspec": {
      "name": "python3",
      "display_name": "Python 3"
    },
    "accelerator": "GPU"
  },
  "cells": [
    {
      "cell_type": "markdown",
      "metadata": {
        "id": "view-in-github",
        "colab_type": "text"
      },
      "source": [
        "<a href=\"https://colab.research.google.com/github/ShineySun/2019-Lane-Detect/blob/master/trace_direction.ipynb\" target=\"_parent\"><img src=\"https://colab.research.google.com/assets/colab-badge.svg\" alt=\"Open In Colab\"/></a>"
      ]
    },
    {
      "cell_type": "markdown",
      "metadata": {
        "id": "kH7ng31OEsw1",
        "colab_type": "text"
      },
      "source": [
        "# Python 버전 확인 및 OpenCV설치"
      ]
    },
    {
      "cell_type": "code",
      "metadata": {
        "id": "VpX2Of5tScoc",
        "colab_type": "code",
        "outputId": "d70ef69e-76ab-42e5-a5b2-447b9aba561e",
        "colab": {
          "base_uri": "https://localhost:8080/",
          "height": 34
        }
      },
      "source": [
        "!python --version"
      ],
      "execution_count": 0,
      "outputs": [
        {
          "output_type": "stream",
          "text": [
            "Python 3.6.8\n"
          ],
          "name": "stdout"
        }
      ]
    },
    {
      "cell_type": "code",
      "metadata": {
        "id": "lXzVf5rdDc9n",
        "colab_type": "code",
        "outputId": "056d6160-f413-4b73-969d-ef2f9225b0a7",
        "colab": {
          "base_uri": "https://localhost:8080/",
          "height": 356
        }
      },
      "source": [
        "!pip install opencv-python==3.4.2.16 && pip install opencv-contrib-python==3.4.2.16"
      ],
      "execution_count": 0,
      "outputs": [
        {
          "output_type": "stream",
          "text": [
            "Collecting opencv-python==3.4.2.16\n",
            "\u001b[?25l  Downloading https://files.pythonhosted.org/packages/fa/7d/5042b668a8ed41d2a80b8c172f5efcd572e3c046c75ae029407e19b7fc68/opencv_python-3.4.2.16-cp36-cp36m-manylinux1_x86_64.whl (25.0MB)\n",
            "\u001b[K     |████████████████████████████████| 25.0MB 25.3MB/s \n",
            "\u001b[?25hRequirement already satisfied: numpy>=1.11.3 in /usr/local/lib/python3.6/dist-packages (from opencv-python==3.4.2.16) (1.16.5)\n",
            "\u001b[31mERROR: albumentations 0.1.12 has requirement imgaug<0.2.7,>=0.2.5, but you'll have imgaug 0.2.9 which is incompatible.\u001b[0m\n",
            "Installing collected packages: opencv-python\n",
            "  Found existing installation: opencv-python 3.4.7.28\n",
            "    Uninstalling opencv-python-3.4.7.28:\n",
            "      Successfully uninstalled opencv-python-3.4.7.28\n",
            "Successfully installed opencv-python-3.4.2.16\n",
            "Collecting opencv-contrib-python==3.4.2.16\n",
            "\u001b[?25l  Downloading https://files.pythonhosted.org/packages/08/f1/66330f4042c4fb3b2d77a159db8e8916d9cdecc29bc8c1f56bc7f8a9bec9/opencv_contrib_python-3.4.2.16-cp36-cp36m-manylinux1_x86_64.whl (30.6MB)\n",
            "\u001b[K     |████████████████████████████████| 30.6MB 1.5MB/s \n",
            "\u001b[?25hRequirement already satisfied: numpy>=1.11.3 in /usr/local/lib/python3.6/dist-packages (from opencv-contrib-python==3.4.2.16) (1.16.5)\n",
            "Installing collected packages: opencv-contrib-python\n",
            "  Found existing installation: opencv-contrib-python 3.4.3.18\n",
            "    Uninstalling opencv-contrib-python-3.4.3.18:\n",
            "      Successfully uninstalled opencv-contrib-python-3.4.3.18\n",
            "Successfully installed opencv-contrib-python-3.4.2.16\n"
          ],
          "name": "stdout"
        }
      ]
    },
    {
      "cell_type": "markdown",
      "metadata": {
        "id": "bKDt_O7AE6cf",
        "colab_type": "text"
      },
      "source": [
        "# OpenCV 버전 확인"
      ]
    },
    {
      "cell_type": "code",
      "metadata": {
        "id": "WWjj3sRe76cZ",
        "colab_type": "code",
        "outputId": "2ec01b4e-5312-4bbd-d1d0-865992ddd1a7",
        "colab": {
          "base_uri": "https://localhost:8080/",
          "height": 34
        }
      },
      "source": [
        "import cv2\n",
        "cv2.__version__"
      ],
      "execution_count": 0,
      "outputs": [
        {
          "output_type": "execute_result",
          "data": {
            "text/plain": [
              "'3.4.2'"
            ]
          },
          "metadata": {
            "tags": []
          },
          "execution_count": 3
        }
      ]
    },
    {
      "cell_type": "markdown",
      "metadata": {
        "id": "KJyL9PwyE_LZ",
        "colab_type": "text"
      },
      "source": [
        "# 실습 이미지 다운로드"
      ]
    },
    {
      "cell_type": "markdown",
      "metadata": {
        "id": "GESJ2CPvFFwY",
        "colab_type": "text"
      },
      "source": [
        "## 이미지 다운로드"
      ]
    },
    {
      "cell_type": "code",
      "metadata": {
        "id": "OIuSK0fhB5xT",
        "colab_type": "code",
        "outputId": "94262d7c-1604-4928-d601-14b0506c748d",
        "colab": {
          "base_uri": "https://localhost:8080/",
          "height": 202
        }
      },
      "source": [
        "!wget https://i.imgur.com/iWGMlJR.png\n",
        "!mv iWGMlJR.png sample.png"
      ],
      "execution_count": 0,
      "outputs": [
        {
          "output_type": "stream",
          "text": [
            "--2019-10-10 16:17:15--  https://i.imgur.com/iWGMlJR.png\n",
            "Resolving i.imgur.com (i.imgur.com)... 151.101.184.193\n",
            "Connecting to i.imgur.com (i.imgur.com)|151.101.184.193|:443... connected.\n",
            "HTTP request sent, awaiting response... 200 OK\n",
            "Length: 491 [image/png]\n",
            "Saving to: ‘iWGMlJR.png’\n",
            "\n",
            "\riWGMlJR.png           0%[                    ]       0  --.-KB/s               \riWGMlJR.png         100%[===================>]     491  --.-KB/s    in 0s      \n",
            "\n",
            "2019-10-10 16:17:16 (74.0 MB/s) - ‘iWGMlJR.png’ saved [491/491]\n",
            "\n"
          ],
          "name": "stdout"
        }
      ]
    },
    {
      "cell_type": "markdown",
      "metadata": {
        "id": "TLd2FFcIZVfl",
        "colab_type": "text"
      },
      "source": [
        "# 4연결성과 8연결성 라벨링 출력 예시\n",
        "## 숫자로 표시\n",
        "![alt text](https://i.imgur.com/lQ9nXox.png)\n",
        "## 색상으로 표시\n",
        "![alt text](https://i.imgur.com/91M3MwP.png)"
      ]
    },
    {
      "cell_type": "markdown",
      "metadata": {
        "id": "PDcmBYphFHyn",
        "colab_type": "text"
      },
      "source": [
        "# 과제1: 4연결성 라벨링\n",
        "\n",
        "## 위의 4연결성(4-neighbors) 라벨링과 같이 숫자 또는 색을 이용하여 라벨링하시오.\n",
        "## cf. 색의 종류에는 제한이 없고, 연결된 픽셀은 같은 숫자 또는 같은 색을 가져야함."
      ]
    },
    {
      "cell_type": "code",
      "metadata": {
        "id": "wiJLvv90563J",
        "colab_type": "code",
        "colab": {}
      },
      "source": [
        "import numpy as np\n",
        "import cv2\n",
        "import matplotlib.pyplot as plt"
      ],
      "execution_count": 0,
      "outputs": []
    },
    {
      "cell_type": "code",
      "metadata": {
        "id": "qW-q0xCdSWv8",
        "colab_type": "code",
        "outputId": "02603bee-4b12-40ef-882f-9385bf42e49f",
        "colab": {
          "base_uri": "https://localhost:8080/",
          "height": 218
        }
      },
      "source": [
        "cnt_four = 0\n",
        "cnt_eight = 0\n",
        "four_direction = np.array([[0,1],[1,0],[0,-1],[-1,0]])\n",
        "eight_direction = np.array([[0,1],[1,1],[1,0],[1,-1],[0,-1],[-1,-1],[-1,0],[-1,1]])\n",
        "\n",
        "\n",
        "print(four_direction)\n",
        "print(eight_direction)"
      ],
      "execution_count": 0,
      "outputs": [
        {
          "output_type": "stream",
          "text": [
            "[[ 0  1]\n",
            " [ 1  0]\n",
            " [ 0 -1]\n",
            " [-1  0]]\n",
            "[[ 0  1]\n",
            " [ 1  1]\n",
            " [ 1  0]\n",
            " [ 1 -1]\n",
            " [ 0 -1]\n",
            " [-1 -1]\n",
            " [-1  0]\n",
            " [-1  1]]\n"
          ],
          "name": "stdout"
        }
      ]
    },
    {
      "cell_type": "code",
      "metadata": {
        "id": "jck2OdW4SzmJ",
        "colab_type": "code",
        "colab": {}
      },
      "source": [
        "# img , x 좌표, y좌표, key값, mode(4 or 8)\n",
        "def dfs(img,x,y,key,mode):\n",
        "  global four_direction\n",
        "  global eight_direction\n",
        "    \n",
        "  img[y][x] = key\n",
        "  \n",
        "  if mode == 4 :\n",
        "    for i in range(0,mode):\n",
        "      new_x = x + four_direction[i][0]\n",
        "      new_y = y + four_direction[i][1]\n",
        "      \n",
        "      if img[new_y][new_x] == 255:\n",
        "        img = dfs(img, new_x, new_y, key, mode)\n",
        "  elif mode == 8:\n",
        "    for i in range(0,mode):\n",
        "      new_x = x + eight_direction[i][0]\n",
        "      new_y = y + eight_direction[i][1]\n",
        "      \n",
        "      if img[new_y][new_x] == 255:\n",
        "        img = dfs(img, new_x, new_y, key, mode)\n",
        "    \n",
        "        \n",
        "  return img      \n",
        "    \n",
        "  \n",
        "  "
      ],
      "execution_count": 0,
      "outputs": []
    },
    {
      "cell_type": "code",
      "metadata": {
        "id": "lopsGc_eMsLC",
        "colab_type": "code",
        "colab": {}
      },
      "source": [
        "def four_connect(img):\n",
        "    global cnt_four\n",
        "    \n",
        "    # Get Height, Width \n",
        "    height,width,channel = img.shape\n",
        "    \n",
        "    # BGR TO GRAYSCALE\n",
        "    gray_img = cv2.cvtColor(img,cv2.COLOR_BGR2GRAY)\n",
        "    \n",
        "    for y in range(0,height):\n",
        "      for x in range(0,width):\n",
        "        if gray_img[y][x] == 255:\n",
        "          cnt_four += 3\n",
        "          gray_img = dfs(gray_img,x,y,cnt_four,4)\n",
        " \n",
        "    return gray_img"
      ],
      "execution_count": 0,
      "outputs": []
    },
    {
      "cell_type": "code",
      "metadata": {
        "id": "dyFhy-LMEv1k",
        "colab_type": "code",
        "outputId": "ecfe6b0b-cfba-4b2b-8efc-0e3506e2e090",
        "colab": {
          "base_uri": "https://localhost:8080/",
          "height": 264
        }
      },
      "source": [
        "img = cv2.imread('sample.png')\n",
        "\n",
        "labeled_img = four_connect(img)\n",
        "\n",
        "height, width = labeled_img.shape\n",
        "\n",
        "# for y in range(0,height):\n",
        "#   for x in range(0,width):\n",
        "#     print(labeled_img[y][x], end= ' ')\n",
        "#   print('')\n",
        "\n",
        "print(\"label_count : \", cnt_four/3)\n",
        "\n",
        "# image 출력\n",
        "plt.imshow(labeled_img,cmap = 'gray')\n",
        "plt.imshow(labeled_img)\n",
        "plt.grid(None)   \n",
        "plt.xticks([])\n",
        "plt.yticks([])\n",
        "plt.show()"
      ],
      "execution_count": 0,
      "outputs": [
        {
          "output_type": "stream",
          "text": [
            "label_count :  81.0\n"
          ],
          "name": "stdout"
        },
        {
          "output_type": "display_data",
          "data": {
            "image/png": "[encoded data removed]",
            "text/plain": [
              "<Figure size 432x288 with 1 Axes>"
            ]
          },
          "metadata": {
            "tags": []
          }
        }
      ]
    },
    {
      "cell_type": "markdown",
      "metadata": {
        "id": "b_zCGVB0WVes",
        "colab_type": "text"
      },
      "source": [
        ""
      ]
    },
    {
      "cell_type": "markdown",
      "metadata": {
        "id": "QLzWwa8jv9j_",
        "colab_type": "text"
      },
      "source": [
        "# 과제2: 8연결성 라벨링\n",
        "## 위의 8연결성(8-neighbors) 라벨링과 같이 숫자 또는 색을 이용하여 라벨링하시오.\n",
        "## cf. 색의 종류에는 제한이 없고, 연결된 픽셀은 같은 숫자 또는 같은 색을 가져야함.\n"
      ]
    },
    {
      "cell_type": "code",
      "metadata": {
        "colab_type": "code",
        "id": "VTWERMqjze3q",
        "colab": {}
      },
      "source": [
        "def eight_connect(img):\n",
        "    # 함수 작성\n",
        "    global cnt_eight\n",
        "    \n",
        "    # Get Height, Width \n",
        "    height,width,channel = img.shape\n",
        "    \n",
        "    # BGR TO GRAYSCALE\n",
        "    gray_img = cv2.cvtColor(img,cv2.COLOR_BGR2GRAY)\n",
        "    \n",
        "    for y in range(0,height):\n",
        "      for x in range(0,width):\n",
        "        if gray_img[y][x] == 255:\n",
        "          cnt_eight += 20\n",
        "          gray_img = dfs(gray_img,x,y,cnt_eight,8)\n",
        "    \n",
        "    return gray_img"
      ],
      "execution_count": 0,
      "outputs": []
    },
    {
      "cell_type": "code",
      "metadata": {
        "colab_type": "code",
        "id": "OJqGX6aMze3t",
        "outputId": "e01884a8-0dba-4fbc-ebe7-3997e5796c65",
        "colab": {
          "base_uri": "https://localhost:8080/",
          "height": 264
        }
      },
      "source": [
        "img = cv2.imread('sample.png')\n",
        "\n",
        "labeled_img = eight_connect(img)\n",
        "\n",
        "print(\"label count : \", cnt_eight/20)\n",
        "# image 출력\n",
        "plt.imshow(labeled_img,cmap = 'gray')\n",
        "plt.imshow(labeled_img)\n",
        "plt.grid(None)   \n",
        "plt.xticks([])\n",
        "plt.yticks([])\n",
        "plt.show()"
      ],
      "execution_count": 0,
      "outputs": [
        {
          "output_type": "stream",
          "text": [
            "label count :  3.0\n"
          ],
          "name": "stdout"
        },
        {
          "output_type": "display_data",
          "data": {
            "image/png": "[encoded data removed]",
            "text/plain": [
              "<Figure size 432x288 with 1 Axes>"
            ]
          },
          "metadata": {
            "tags": []
          }
        }
      ]
    },
    {
      "cell_type": "code",
      "metadata": {
        "id": "-2reailIuTMu",
        "colab_type": "code",
        "colab": {}
      },
      "source": [
        ""
      ],
      "execution_count": 0,
      "outputs": []
    }
  ]
}